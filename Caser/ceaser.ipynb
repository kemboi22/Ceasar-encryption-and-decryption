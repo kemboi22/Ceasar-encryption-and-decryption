{
 "cells": [
  {
   "cell_type": "code",
   "execution_count": 2,
   "outputs": [
    {
     "name": "stdout",
     "output_type": "stream",
     "text": [
      "The original text is kemboi\n",
      "The encrypted version is: mgodqk \n"
     ]
    }
   ],
   "source": [
    "#c= (x-n)%26 <= formula\n",
    "text = input(\"Enter words to be Encrypted: \")\n",
    "key = int(input(\"Enter shift key: \"))\n",
    "\n",
    "def ceasar_cipher(text, key):\n",
    "    cipher = \"\"\n",
    "    for char in text:\n",
    "        if char == ' ':\n",
    "            cipher = cipher + char\n",
    "        elif char.isupper():\n",
    "            cipher = cipher + chr((ord(char) + key - 65) % 26 + 65)\n",
    "        else:\n",
    "            cipher = cipher + chr((ord(char) + key - 97) % 26 + 97)\n",
    "    return cipher\n",
    "\n",
    "print(f\"The original text is {text}\")\n",
    "print(f\"The encrypted version is: {ceasar_cipher(text, key)} \")\n",
    "\n"
   ],
   "metadata": {
    "collapsed": false,
    "pycharm": {
     "name": "#%%\n"
    }
   }
  },
  {
   "cell_type": "code",
   "execution_count": 6,
   "outputs": [
    {
     "data": {
      "text/plain": "65"
     },
     "execution_count": 6,
     "metadata": {},
     "output_type": "execute_result"
    }
   ],
   "source": [
    "ord('A')"
   ],
   "metadata": {
    "collapsed": false,
    "pycharm": {
     "name": "#%%\n"
    }
   }
  },
  {
   "cell_type": "code",
   "execution_count": 12,
   "outputs": [
    {
     "name": "stdout",
     "output_type": "stream",
     "text": [
      "the answer is abc\n"
     ]
    }
   ],
   "source": [
    "def ceasar_decrypt(text, key):\n",
    "    cipher = ''\n",
    "    for char in text:\n",
    "        if char == \" \":\n",
    "            cipher = cipher + char\n",
    "        elif char.isupper():\n",
    "            cipher = cipher + chr((ord(char)-key ))\n",
    "        else:\n",
    "            cipher = cipher + chr((ord(char) - key))\n",
    "    return cipher\n",
    "\n",
    "\n",
    "print(f\"the answer is { ceasar_decrypt('def', 3)}\")"
   ],
   "metadata": {
    "collapsed": false,
    "pycharm": {
     "name": "#%%\n"
    }
   }
  },
  {
   "cell_type": "code",
   "execution_count": null,
   "outputs": [],
   "source": [],
   "metadata": {
    "collapsed": false,
    "pycharm": {
     "name": "#%%\n"
    }
   }
  }
 ],
 "metadata": {
  "kernelspec": {
   "display_name": "Python 3",
   "language": "python",
   "name": "python3"
  },
  "language_info": {
   "codemirror_mode": {
    "name": "ipython",
    "version": 2
   },
   "file_extension": ".py",
   "mimetype": "text/x-python",
   "name": "python",
   "nbconvert_exporter": "python",
   "pygments_lexer": "ipython2",
   "version": "2.7.6"
  }
 },
 "nbformat": 4,
 "nbformat_minor": 0
}